{
 "cells": [
  {
   "cell_type": "markdown",
   "metadata": {
    "id": "kv-11NReThX_"
   },
   "source": [
    "<center><img src=\"https://i.imgur.com/zRrFdsf.png\" width=\"700\"></center>\n",
    "\n",
    "_____\n",
    "\n",
    "<a id='home'></a>\n",
    "\n",
    "<a target=\"_blank\" href=\"https://colab.research.google.com/github/CienciaDeDatosEspacial/merging/blob/main/Merging_DFs.ipynb\">\n",
    "  <img src=\"https://colab.research.google.com/assets/colab-badge.svg\" alt=\"Open In Colab\"/>\n",
    "</a>\n",
    "\n",
    "\n",
    "# Merging\n"
   ]
  },
  {
   "cell_type": "markdown",
   "metadata": {
    "id": "OgGDmvO4ThYA"
   },
   "source": [
    "Merging data sets need the following considerations:\n",
    "\n",
    "* Merging is done on two data frames.\n",
    "* You need a column in each data frame that share the same exact and unique values. The column names or titles need not be the same.\n",
    "* The merged table shows by default the mutual coincidences; but you can also request the values not matched, which will help you detect possible extra cleaning.\n",
    "* Pandas jargon uses a **left** and a **right** data frame: **left**.merge(**right**).\n",
    "\n",
    "At this stage, let me use other data frames we prepared previously:"
   ]
  },
  {
   "cell_type": "code",
   "execution_count": null,
   "metadata": {
    "id": "sp0Gv4j-ThYA"
   },
   "outputs": [],
   "source": [
    "import pandas as pd\n",
    "\n",
    "co2Link='https://github.com/CienciaDeDatosEspacial/dataSets/raw/main/co2.csv'\n",
    "forestLink='https://github.com/CienciaDeDatosEspacial/dataSets/raw/main/forestRev.csv'\n",
    "\n",
    "co2=pd.read_csv(co2Link)\n",
    "forest=pd.read_csv(forestLink)"
   ]
  },
  {
   "cell_type": "markdown",
   "metadata": {
    "id": "4w42lPGhThYB"
   },
   "source": [
    "Remember the amount of rows of each DF:"
   ]
  },
  {
   "cell_type": "code",
   "execution_count": null,
   "metadata": {
    "id": "gTuLLkKEThYB"
   },
   "outputs": [],
   "source": [
    "co2.shape,forest.shape"
   ]
  },
  {
   "cell_type": "markdown",
   "metadata": {
    "id": "4Oq0YpuuThYC"
   },
   "source": [
    "Also keep in mind the column names:"
   ]
  },
  {
   "cell_type": "code",
   "execution_count": null,
   "metadata": {
    "id": "a16np2rdThYC"
   },
   "outputs": [],
   "source": [
    "forest.columns,co2.columns"
   ]
  },
  {
   "cell_type": "markdown",
   "metadata": {
    "id": "oD2R1e6bThYD"
   },
   "source": [
    "Let me show you some merge approaches, but I will only show the amount of columns produced:\n",
    "\n",
    "1. You keep only what is common in both key columns:\n",
    "\n",
    "This is the default. The final rows will be the ones where the key values in each data frame match exactly. In this case, your count of rows will be at most the amount of rows of the smallest data frame."
   ]
  },
  {
   "cell_type": "code",
   "execution_count": null,
   "metadata": {
    "id": "rzh9Bmb7ThYD"
   },
   "outputs": [],
   "source": [
    "# how many resulting rows after inner merging\n",
    "co2.merge(forest,how='inner',left_on='name',right_on='Country').shape"
   ]
  },
  {
   "cell_type": "markdown",
   "metadata": {
    "id": "IJ5mOftwThYD"
   },
   "source": [
    "2. You keep all the keys from one data frame:\n",
    "\n",
    "The final rows will be all the rows from the dataframe (here from the _left_). If a key values does not find a match, the key value is kept, but the columns will have missing values. In this case, your count of rows will be equal to the amount of rows of the data frame to the left. You can also use **right** so the same logic applies to the data frame to the right.\n",
    "\n"
   ]
  },
  {
   "cell_type": "code",
   "execution_count": null,
   "metadata": {
    "id": "soECXioeThYE"
   },
   "outputs": [],
   "source": [
    "# how many resulting rows after left merging\n",
    "co2.merge(forest,how='left',left_on='name',right_on='Country').shape"
   ]
  },
  {
   "cell_type": "markdown",
   "metadata": {
    "id": "sRb9L7H3ThYE"
   },
   "source": [
    "3. You keep all the rows from both data frames:\n",
    "\n",
    "In this case you will obtain all possible rows: the matched values, and the unmatched values from both data frames. You will also generate missing values. In this case, your count of rows will be at least the amount of rows of the data frame with the most rows.\n"
   ]
  },
  {
   "cell_type": "code",
   "execution_count": null,
   "metadata": {
    "id": "aq_ddeV-ThYE"
   },
   "outputs": [],
   "source": [
    "# how many resulting rows after outer merging\n",
    "co2.merge(forest,how='outer',left_on='name',right_on='Country').shape"
   ]
  },
  {
   "cell_type": "markdown",
   "metadata": {
    "id": "HZ5izfrEThYE"
   },
   "source": [
    "Why the different amount of rows?"
   ]
  },
  {
   "cell_type": "code",
   "execution_count": null,
   "metadata": {
    "id": "Zx-YjOm_ThYE"
   },
   "outputs": [],
   "source": [
    "set(co2.name)-set(forest.Country)"
   ]
  },
  {
   "cell_type": "code",
   "execution_count": null,
   "metadata": {
    "id": "dalbAuJWThYF"
   },
   "outputs": [],
   "source": [
    "set(forest.Country)-set(co2.name)"
   ]
  },
  {
   "cell_type": "markdown",
   "metadata": {
    "id": "64S3ey0ZThYF"
   },
   "source": [
    "Apparently, the data is not available from every country. So, let's just continue:"
   ]
  },
  {
   "cell_type": "code",
   "execution_count": null,
   "metadata": {
    "id": "7tjcvOpvThYF"
   },
   "outputs": [],
   "source": [
    "# the default is inner merge\n",
    "cia=co2.merge(forest,left_on='name',right_on='Country')\n",
    "cia"
   ]
  },
  {
   "cell_type": "markdown",
   "metadata": {
    "id": "ZIt7TkUpThYF"
   },
   "source": [
    "Let's bring back the data on fragility, but just for the year 2019:"
   ]
  },
  {
   "cell_type": "code",
   "execution_count": null,
   "metadata": {
    "id": "6NK1ORDSThYF"
   },
   "outputs": [],
   "source": [
    "import os\n",
    "\n",
    "linkFromGit='https://github.com/CienciaDeDatosEspacial/reshaping/raw/main/Fragility_cleaner.csv'\n",
    "#read in:\n",
    "FragilityAll=pd.read_csv(linkFromGit,index_col=False)\n",
    "\n",
    "\n",
    "#subset\n",
    "fragile2019=FragilityAll.loc[FragilityAll.Year==2019,:\"Total\"].copy()\n",
    "\n",
    "# see\n",
    "fragile2019"
   ]
  },
  {
   "cell_type": "markdown",
   "metadata": {
    "id": "Lm0W5czMThYF"
   },
   "source": [
    "We will practice **fuzzy merging** now."
   ]
  },
  {
   "cell_type": "code",
   "execution_count": null,
   "metadata": {
    "id": "CdMdYQkYThYG"
   },
   "outputs": [],
   "source": [
    "# Countries in 'cia' but NOT in 'fragile2019'\n",
    "OnlyCia=set(cia.Country)-set(fragile2019.Country)\n",
    "OnlyCia"
   ]
  },
  {
   "cell_type": "code",
   "execution_count": null,
   "metadata": {
    "id": "biPQ6pgTThYG"
   },
   "outputs": [],
   "source": [
    "# Countris in 'fragile2019' but NOT in 'cia'\n",
    "OnlyFragile=set(fragile2019.Country)-set(cia.Country)\n",
    "OnlyFragile"
   ]
  },
  {
   "cell_type": "markdown",
   "metadata": {
    "id": "F9eVMIcTThYG"
   },
   "source": [
    "Here, we should try to find the what countries in _OnlyFragile_ may match the ones in _OnlyCia_. We need to use the **fuzzy merge** approach (please install **thefuzz** if not previously installed):"
   ]
  },
  {
   "cell_type": "code",
   "execution_count": null,
   "metadata": {
    "id": "cW6j9AmXThYG"
   },
   "outputs": [],
   "source": [
    "# !pip install thefuzz"
   ]
  },
  {
   "cell_type": "code",
   "execution_count": null,
   "metadata": {
    "id": "dAe_CizeThYG"
   },
   "outputs": [],
   "source": [
    "from thefuzz import process as fz\n",
    "\n",
    "# take a country from OnlyFragile\n",
    "# look for a country in OnlyCia and return the most similar\n",
    "[(c,fz.extractOne(c,OnlyFragile )) for c in sorted(OnlyCia)]"
   ]
  },
  {
   "cell_type": "markdown",
   "metadata": {
    "id": "-BPVXB0qThYG"
   },
   "source": [
    "Above you have found _some_ good matches. Let's keep the best ones:"
   ]
  },
  {
   "cell_type": "code",
   "execution_count": null,
   "metadata": {
    "id": "kBmQyYFPThYG"
   },
   "outputs": [],
   "source": [
    "[(c,fz.extractOne(c, OnlyFragile)) for c in sorted(OnlyCia)\n",
    " if fz.extractOne(c, OnlyFragile)[1]>86]"
   ]
  },
  {
   "cell_type": "markdown",
   "metadata": {
    "id": "p9hF2Jh8ThYH"
   },
   "source": [
    "Once you have good matches, you have to create dictionary like this:"
   ]
  },
  {
   "cell_type": "code",
   "execution_count": null,
   "metadata": {
    "id": "D19n1olAThYH"
   },
   "outputs": [],
   "source": [
    "changesCIA1={c:fz.extractOne(c, OnlyFragile)[0]\n",
    "                 for c in sorted(OnlyCia)\n",
    "                 if fz.extractOne(c, OnlyFragile)[1] >86}\n",
    "#dict of matches\n",
    "changesCIA1"
   ]
  },
  {
   "cell_type": "markdown",
   "metadata": {
    "id": "Qd3rUX6LThYH"
   },
   "source": [
    "You can use that dict for the replacements:"
   ]
  },
  {
   "cell_type": "code",
   "execution_count": null,
   "metadata": {
    "id": "3Fp4KSueThYH"
   },
   "outputs": [],
   "source": [
    "cia.replace(to_replace={'Country':changesCIA1},inplace=True)"
   ]
  },
  {
   "cell_type": "markdown",
   "metadata": {
    "id": "Jvknyga-ThYH"
   },
   "source": [
    "This process can be done a few more times, and you can recover more rows for the merging process. Let's see:"
   ]
  },
  {
   "cell_type": "code",
   "execution_count": null,
   "metadata": {
    "id": "EdvoyrjnThYH"
   },
   "outputs": [],
   "source": [
    "# second try\n",
    "OnlyCia=set(cia.Country)-set(fragile2019.Country)\n",
    "OnlyFragile=set(fragile2019.Country)-set(cia.Country)\n",
    "[(c,fz.extractOne(c,OnlyFragile )) for c in sorted(OnlyCia)]"
   ]
  },
  {
   "cell_type": "code",
   "execution_count": null,
   "metadata": {
    "id": "lZk5Br3gThYH"
   },
   "outputs": [],
   "source": [
    "# in the opposite direction\n",
    "[(f,fz.extractOne(f, OnlyCia)) for f in sorted(OnlyFragile)]"
   ]
  },
  {
   "cell_type": "code",
   "execution_count": null,
   "metadata": {
    "id": "3QI_z8a0ThYI"
   },
   "outputs": [],
   "source": [
    "troublesome={'CONGO REPUBLIC':'CONGO, REPUBLIC OF THE','KYRGYZ REPUBLIC':'KYRGYZSTAN'}\n",
    "\n",
    "fragile2019.replace(to_replace={'Country':troublesome},inplace=True)"
   ]
  },
  {
   "cell_type": "code",
   "execution_count": null,
   "metadata": {
    "id": "kYoWB1sSThYI"
   },
   "outputs": [],
   "source": [
    "# third try\n",
    "OnlyCia=set(cia.Country)-set(fragile2019.Country)\n",
    "OnlyFragile=set(fragile2019.Country)-set(cia.Country)\n",
    "[(f,fz.extractOne(f, OnlyCia)) for f in sorted(OnlyFragile)]\n"
   ]
  },
  {
   "cell_type": "code",
   "execution_count": null,
   "metadata": {
    "id": "vtcY_0K8ThYI"
   },
   "outputs": [],
   "source": [
    "# second dict of changes\n",
    "# select a different threshold\n",
    "changesFragile1={f:fz.extractOne(f, OnlyCia)[0]\n",
    "                 for f in sorted(OnlyFragile)\n",
    "                 if fz.extractOne(f, OnlyCia)[1] in([80,64,74])}\n",
    "\n",
    "#dict of matches\n",
    "changesFragile1"
   ]
  },
  {
   "cell_type": "code",
   "execution_count": null,
   "metadata": {
    "id": "AYSbs3gNThYI"
   },
   "outputs": [],
   "source": [
    "# make the changes\n",
    "fragile2019.replace(to_replace={'Country':changesFragile1},inplace=True)"
   ]
  },
  {
   "cell_type": "code",
   "execution_count": null,
   "metadata": {
    "id": "cimX9jfZThYR"
   },
   "outputs": [],
   "source": [
    "# next try\n",
    "OnlyCia=set(cia.Country)-set(fragile2019.Country)\n",
    "OnlyFragile=set(fragile2019.Country)-set(cia.Country)\n",
    "[(f,fz.extractOne(f, OnlyCia)) for f in sorted(OnlyFragile)]"
   ]
  },
  {
   "cell_type": "markdown",
   "metadata": {
    "id": "fJT0RyB6ThYR"
   },
   "source": [
    "We will stop here. Then,"
   ]
  },
  {
   "cell_type": "code",
   "execution_count": null,
   "metadata": {
    "id": "hrQ2Hry9ThYS"
   },
   "outputs": [],
   "source": [
    "fragilecia=fragile2019.merge(cia) #merge on Country\n",
    "fragilecia"
   ]
  },
  {
   "cell_type": "code",
   "execution_count": null,
   "metadata": {
    "id": "h7WKbsUoThYS"
   },
   "outputs": [],
   "source": [
    "#checking:\n",
    "fragilecia.info()"
   ]
  },
  {
   "cell_type": "markdown",
   "metadata": {
    "id": "g5UrcIw8ThYS"
   },
   "source": [
    "Merging is a key process for producing analytics. So, it is always good to add some 'standard' information to avoid the need of fuzzy merging. See this data table\n"
   ]
  },
  {
   "cell_type": "code",
   "execution_count": null,
   "metadata": {
    "id": "rPVt2N4oThYS"
   },
   "outputs": [],
   "source": [
    "isoLink='https://github.com/CienciaDeDatosEspacial/dataSets/raw/main/isodata.csv'\n",
    "isoCodes=pd.read_csv(isoLink)\n",
    "isoCodes.head()"
   ]
  },
  {
   "cell_type": "code",
   "execution_count": null,
   "metadata": {
    "id": "TMvXKFtrVtNN"
   },
   "outputs": [],
   "source": [
    "isoCodes"
   ]
  },
  {
   "cell_type": "markdown",
   "metadata": {
    "id": "VqsOcCb_ThYS"
   },
   "source": [
    "We should add the **ISO** columns to our recent merged data frame:"
   ]
  },
  {
   "cell_type": "code",
   "execution_count": null,
   "metadata": {
    "id": "WZwb2jKPThYS"
   },
   "outputs": [],
   "source": [
    "# key columns are not spelled the same:\n",
    "isoCodes.Countryname=isoCodes.Countryname.str.upper()\n",
    "isoCodes.merge(fragilecia,left_on='Countryname',right_on='Country')"
   ]
  },
  {
   "cell_type": "markdown",
   "metadata": {
    "id": "NECcqy3KThYS"
   },
   "source": [
    "We have lost several countries, then we redo the fuzzy merge:"
   ]
  },
  {
   "cell_type": "code",
   "execution_count": null,
   "metadata": {
    "id": "ca1gL1V8ThYT"
   },
   "outputs": [],
   "source": [
    "onlyFrcia=set(fragilecia.Country)-set(isoCodes.Countryname)\n",
    "onlyISO=set(isoCodes.Countryname)-set(fragilecia.Country)\n",
    "\n",
    "[(f,fz.extractOne(f, onlyISO)) for f in sorted(onlyFrcia)]"
   ]
  },
  {
   "cell_type": "markdown",
   "metadata": {
    "id": "qZLm0k-2ThYT"
   },
   "source": [
    "Prepare changes:"
   ]
  },
  {
   "cell_type": "code",
   "execution_count": null,
   "metadata": {
    "id": "CWuJA7iyThYT"
   },
   "outputs": [],
   "source": [
    "# first change\n",
    "changesFrcia1={f:fz.extractOne(f, onlyISO)[0]\n",
    "                 for f in sorted(onlyFrcia)\n",
    "                 if fz.extractOne(f, onlyISO)[1] >=90}\n",
    "#dict of matches\n",
    "changesFrcia1"
   ]
  },
  {
   "cell_type": "code",
   "execution_count": null,
   "metadata": {
    "id": "X2-8JoR0ThYT"
   },
   "outputs": [],
   "source": [
    "# make changes\n",
    "fragilecia.replace(to_replace={'Country':changesFrcia1},inplace=True)"
   ]
  },
  {
   "cell_type": "markdown",
   "metadata": {
    "id": "KrIP7omqThYT"
   },
   "source": [
    "Second iteration"
   ]
  },
  {
   "cell_type": "code",
   "execution_count": null,
   "metadata": {
    "id": "2KtRGNCCThYT"
   },
   "outputs": [],
   "source": [
    "onlyFrcia=set(fragilecia.Country)-set(isoCodes.Countryname)\n",
    "onlyISO=set(isoCodes.Countryname)-set(fragilecia.Country)\n",
    "\n",
    "[(f,fz.extractOne(f, onlyISO)) for f in sorted(onlyFrcia)]"
   ]
  },
  {
   "cell_type": "markdown",
   "metadata": {
    "id": "8ExJ8FOqThYT"
   },
   "source": [
    "This second iteration gives weird results. Let's use a different function to get more than one result:"
   ]
  },
  {
   "cell_type": "code",
   "execution_count": null,
   "metadata": {
    "id": "ZDsXeDNmThYU"
   },
   "outputs": [],
   "source": [
    "onlyFrcia=set(fragilecia.Country)-set(isoCodes.Countryname)\n",
    "onlyISO=set(isoCodes.Countryname)-set(fragilecia.Country)\n",
    "\n",
    "[(f,fz.extract(f, onlyISO)) for f in sorted(onlyFrcia)]"
   ]
  },
  {
   "cell_type": "code",
   "execution_count": null,
   "metadata": {
    "id": "d2h5Z5H7ThYU"
   },
   "outputs": [],
   "source": [
    "# remember you can use this for a particular case:\n",
    "isoCodes.loc[isoCodes.Countryname.str.contains('LAO|KOREA|CONGO')]"
   ]
  },
  {
   "cell_type": "markdown",
   "metadata": {
    "id": "AOkXE-yTThYU"
   },
   "source": [
    "Then, just prepare manual changes:"
   ]
  },
  {
   "cell_type": "code",
   "execution_count": null,
   "metadata": {
    "id": "1BIZfIGDThYU"
   },
   "outputs": [],
   "source": [
    "manualChanges={'CONGO, REPUBLIC OF THE':'CONGO (THE)',\n",
    " 'SOUTH KOREA':\"KOREA (THE REPUBLIC OF)\",\n",
    "'LAOS':\"LAO PEOPLE'S DEMOCRATIC REPUBLIC (THE)\"}\n",
    "\n",
    "fragilecia.replace(to_replace={'Country':manualChanges},inplace=True)"
   ]
  },
  {
   "cell_type": "code",
   "execution_count": null,
   "metadata": {
    "id": "lA9tlaJwThYU"
   },
   "outputs": [],
   "source": [
    "onlyFrcia=set(fragilecia.Country)-set(isoCodes.Countryname)\n",
    "onlyISO=set(isoCodes.Countryname)-set(fragilecia.Country)\n",
    "\n",
    "[(f,fz.extractOne(f, onlyISO)) for f in sorted(onlyFrcia)]"
   ]
  },
  {
   "cell_type": "markdown",
   "metadata": {
    "id": "PwdUx7EmThYU"
   },
   "source": [
    "Then,"
   ]
  },
  {
   "cell_type": "code",
   "execution_count": null,
   "metadata": {
    "id": "Q_d-feB9ThYV"
   },
   "outputs": [],
   "source": [
    "# now:\n",
    "\n",
    "fragciaiso=isoCodes.merge(fragilecia,left_on='Countryname',right_on='Country')\n",
    "fragciaiso"
   ]
  },
  {
   "cell_type": "code",
   "execution_count": null,
   "metadata": {
    "id": "kABNrOcdThYV"
   },
   "outputs": [],
   "source": [
    "fragciaiso.drop(columns=['Country','name','Year','co2_date','ForestRev_date'],inplace=True)\n",
    "fragciaiso.rename(columns={'Countryname':\"Country\",'Total':'fragility'},inplace=True)\n",
    "fragciaiso"
   ]
  },
  {
   "cell_type": "markdown",
   "metadata": {
    "id": "acAw6xmZThYV"
   },
   "source": [
    "Let's save what we have:"
   ]
  },
  {
   "cell_type": "code",
   "execution_count": null,
   "metadata": {
    "id": "rzn6rzauThYV"
   },
   "outputs": [],
   "source": [
    "fragciaiso.to_csv(\"FragilityCia_isos.csv\", index=False)"
   ]
  },
  {
   "cell_type": "code",
   "execution_count": null,
   "metadata": {
    "id": "vuHZdMO1ThYV"
   },
   "outputs": [],
   "source": []
  }
 ],
 "metadata": {
  "colab": {
   "provenance": []
  },
  "hide_input": false,
  "kernelspec": {
   "display_name": "Python 3 (ipykernel)",
   "language": "python",
   "name": "python3"
  },
  "language_info": {
   "codemirror_mode": {
    "name": "ipython",
    "version": 3
   },
   "file_extension": ".py",
   "mimetype": "text/x-python",
   "name": "python",
   "nbconvert_exporter": "python",
   "pygments_lexer": "ipython3",
   "version": "3.11.9"
  }
 },
 "nbformat": 4,
 "nbformat_minor": 1
}
